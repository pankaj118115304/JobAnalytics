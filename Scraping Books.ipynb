{
 "cells": [
  {
   "cell_type": "code",
   "execution_count": 1,
   "metadata": {},
   "outputs": [],
   "source": [
    "from bs4 import BeautifulSoup\n",
    "import requests\n",
    "bp=requests.get(\"https://bookpage.com/\")\n",
    "bp1=BeautifulSoup(bp.content,'html.parser')"
   ]
  },
  {
   "cell_type": "code",
   "execution_count": 2,
   "metadata": {},
   "outputs": [],
   "source": [
    "# We are finding the book name , author name, genre and book review \n",
    "Book_Name=[]\n",
    "Author=[]\n",
    "Genre=[]\n",
    "Book_Review=[]"
   ]
  },
  {
   "cell_type": "code",
   "execution_count": 3,
   "metadata": {},
   "outputs": [
    {
     "data": {
      "text/plain": [
       "[<h4 class=\"italic\">\n",
       " <a href=\"/features/25619-hold-list-books-to-spark-nourish-creative-spirit-nonfiction\">The Hold List: Books to spark and nourish the creative spirit</a>\n",
       " </h4>,\n",
       " <h4 class=\"italic\">\n",
       " <a href=\"/features/25682-friends-to-lovers-versus-patriarchy-romance\">Friends-to-lovers (versus the patriarchy!)</a>\n",
       " </h4>,\n",
       " <h4 class=\"italic\">\n",
       " <a href=\"/reviews/25671-elizabeth-berg-ill-be-seeing-you-nonfiction\">I'll Be Seeing You</a>\n",
       " </h4>,\n",
       " <h4 class=\"italic\">\n",
       " <a href=\"/reviews/25654-jess-walter-cold-millions-fiction\">The Cold Millions</a>\n",
       " </h4>,\n",
       " <h4 class=\"italic\">\n",
       " <a href=\"/reviews/25686-rebekah-weatherspoon-if-boot-fits-romance\"> <span style=\"font-style:normal;\">★ </span>If the Boot Fits</a>\n",
       " </h4>]"
      ]
     },
     "execution_count": 3,
     "metadata": {},
     "output_type": "execute_result"
    }
   ],
   "source": [
    "book_name=bp1.find_all('h4',class_=\"italic\")\n",
    "book_name[0:5]"
   ]
  },
  {
   "cell_type": "code",
   "execution_count": 4,
   "metadata": {},
   "outputs": [
    {
     "data": {
      "text/plain": [
       "['\\nThe Hold List: Books to spark and nourish the creative spirit\\n',\n",
       " '\\nFriends-to-lovers (versus the patriarchy!)\\n',\n",
       " \"\\nI'll Be Seeing You\\n\",\n",
       " '\\nThe Cold Millions\\n',\n",
       " '\\n ★ If the Boot Fits\\n']"
      ]
     },
     "execution_count": 4,
     "metadata": {},
     "output_type": "execute_result"
    }
   ],
   "source": [
    "for i in book_name:\n",
    "    Book_Name.append(i.get_text())\n",
    "Book_Name[0:5]"
   ]
  },
  {
   "cell_type": "code",
   "execution_count": 5,
   "metadata": {},
   "outputs": [
    {
     "data": {
      "text/plain": [
       "[<p class=\"sans bold\">\n",
       " Feature by the editors of BookPage\n",
       " </p>,\n",
       " <p class=\"sans bold\">\n",
       " Feature by Dolly R. Sickles\n",
       " </p>,\n",
       " <p class=\"sans bold\">\n",
       " Review by Alison Hood\n",
       " </p>,\n",
       " <p class=\"sans bold\">\n",
       " Review by Grace Lichtenstein\n",
       " </p>,\n",
       " <p class=\"sans bold\">\n",
       " Review by Carole V. Bell\n",
       " </p>]"
      ]
     },
     "execution_count": 5,
     "metadata": {},
     "output_type": "execute_result"
    }
   ],
   "source": [
    "author=bp1.find_all('p',class_=\"sans bold\")\n",
    "author[0:5]"
   ]
  },
  {
   "cell_type": "code",
   "execution_count": 6,
   "metadata": {},
   "outputs": [
    {
     "data": {
      "text/plain": [
       "['\\nFeature by the editors of BookPage\\n',\n",
       " '\\nFeature by Dolly R. Sickles\\n',\n",
       " '\\nReview by Alison Hood\\n',\n",
       " '\\nReview by Grace Lichtenstein\\n',\n",
       " '\\nReview by Carole V. Bell\\n']"
      ]
     },
     "execution_count": 6,
     "metadata": {},
     "output_type": "execute_result"
    }
   ],
   "source": [
    "for i in author:\n",
    "    Author.append(i.get_text())\n",
    "Author[0:5] "
   ]
  },
  {
   "cell_type": "code",
   "execution_count": 7,
   "metadata": {},
   "outputs": [
    {
     "data": {
      "text/plain": [
       "[<p class=\"genre-links hidden-phone\">\n",
       " <a href=\"/search?book_genre=nonfiction\">Nonfiction</a>\n",
       "  / \n",
       " <a href=\"/search?book_genre=crafts_hobbies\">Crafts &amp; Hobbies</a>\n",
       "  / \n",
       " <a href=\"/search?book_genre=literary_fiction\">Literary Fiction</a>\n",
       " </p>,\n",
       " <p class=\"genre-links hidden-phone\">\n",
       " <a href=\"/search?book_genre=romance\">Romance</a>\n",
       "  / \n",
       " <a href=\"/search?book_genre=historical_romance\">Historical Romance</a>\n",
       "  / \n",
       " <a href=\"/search?book_genre=contemporary_romance\">Contemporary Romance</a>\n",
       " </p>,\n",
       " <p class=\"genre-links hidden-phone\">\n",
       " <a href=\"/search?book_genre=nonfiction\">Nonfiction</a>\n",
       "  / \n",
       " <a href=\"/search?book_genre=memoir\">Memoir</a>\n",
       "  / \n",
       " <a href=\"/search?book_genre=family_relationships\">Family &amp; Relationships</a>\n",
       " </p>,\n",
       " <p class=\"genre-links hidden-phone\">\n",
       " <a href=\"/search?book_genre=fiction\">Fiction</a>\n",
       "  / \n",
       " <a href=\"/search?book_genre=historical_fiction\">Historical Fiction</a>\n",
       " </p>,\n",
       " <p class=\"genre-links hidden-phone\">\n",
       " <a href=\"/search?book_genre=romance\">Romance</a>\n",
       "  / \n",
       " <a href=\"/search?book_genre=contemporary_romance\">Contemporary Romance</a>\n",
       " </p>]"
      ]
     },
     "execution_count": 7,
     "metadata": {},
     "output_type": "execute_result"
    }
   ],
   "source": [
    "genre=bp1.find_all('p',class_=\"genre-links hidden-phone\")\n",
    "genre[0:5]"
   ]
  },
  {
   "cell_type": "code",
   "execution_count": 8,
   "metadata": {},
   "outputs": [
    {
     "data": {
      "text/plain": [
       "['\\nNonfiction\\n / \\nCrafts & Hobbies\\n / \\nLiterary Fiction\\n',\n",
       " '\\nRomance\\n / \\nHistorical Romance\\n / \\nContemporary Romance\\n',\n",
       " '\\nNonfiction\\n / \\nMemoir\\n / \\nFamily & Relationships\\n',\n",
       " '\\nFiction\\n / \\nHistorical Fiction\\n',\n",
       " '\\nRomance\\n / \\nContemporary Romance\\n']"
      ]
     },
     "execution_count": 8,
     "metadata": {},
     "output_type": "execute_result"
    }
   ],
   "source": [
    "for i in genre:\n",
    "    Genre.append(i.get_text())\n",
    "Genre[0:5]"
   ]
  },
  {
   "cell_type": "code",
   "execution_count": 9,
   "metadata": {},
   "outputs": [
    {
     "name": "stdout",
     "output_type": "stream",
     "text": [
      "6 6 6\n"
     ]
    }
   ],
   "source": [
    "print(len(Author),len(Book_Name),len(Genre))"
   ]
  },
  {
   "cell_type": "code",
   "execution_count": 10,
   "metadata": {},
   "outputs": [
    {
     "data": {
      "text/html": [
       "<div>\n",
       "<style scoped>\n",
       "    .dataframe tbody tr th:only-of-type {\n",
       "        vertical-align: middle;\n",
       "    }\n",
       "\n",
       "    .dataframe tbody tr th {\n",
       "        vertical-align: top;\n",
       "    }\n",
       "\n",
       "    .dataframe thead th {\n",
       "        text-align: right;\n",
       "    }\n",
       "</style>\n",
       "<table border=\"1\" class=\"dataframe\">\n",
       "  <thead>\n",
       "    <tr style=\"text-align: right;\">\n",
       "      <th></th>\n",
       "      <th>Name</th>\n",
       "      <th>Author</th>\n",
       "      <th>Genre</th>\n",
       "    </tr>\n",
       "  </thead>\n",
       "  <tbody>\n",
       "    <tr>\n",
       "      <th>0</th>\n",
       "      <td>\\nThe Hold List: Books to spark and nourish th...</td>\n",
       "      <td>\\nFeature by the editors of BookPage\\n</td>\n",
       "      <td>\\nNonfiction\\n / \\nCrafts &amp; Hobbies\\n / \\nLite...</td>\n",
       "    </tr>\n",
       "    <tr>\n",
       "      <th>1</th>\n",
       "      <td>\\nFriends-to-lovers (versus the patriarchy!)\\n</td>\n",
       "      <td>\\nFeature by Dolly R. Sickles\\n</td>\n",
       "      <td>\\nRomance\\n / \\nHistorical Romance\\n / \\nConte...</td>\n",
       "    </tr>\n",
       "    <tr>\n",
       "      <th>2</th>\n",
       "      <td>\\nI'll Be Seeing You\\n</td>\n",
       "      <td>\\nReview by Alison Hood\\n</td>\n",
       "      <td>\\nNonfiction\\n / \\nMemoir\\n / \\nFamily &amp; Relat...</td>\n",
       "    </tr>\n",
       "    <tr>\n",
       "      <th>3</th>\n",
       "      <td>\\nThe Cold Millions\\n</td>\n",
       "      <td>\\nReview by Grace Lichtenstein\\n</td>\n",
       "      <td>\\nFiction\\n / \\nHistorical Fiction\\n</td>\n",
       "    </tr>\n",
       "    <tr>\n",
       "      <th>4</th>\n",
       "      <td>\\n ★ If the Boot Fits\\n</td>\n",
       "      <td>\\nReview by Carole V. Bell\\n</td>\n",
       "      <td>\\nRomance\\n / \\nContemporary Romance\\n</td>\n",
       "    </tr>\n",
       "    <tr>\n",
       "      <th>5</th>\n",
       "      <td>\\nThe Tower of Fools\\n</td>\n",
       "      <td>\\nReview by Ralph Harris\\n</td>\n",
       "      <td>\\nScience Fiction &amp; Fantasy\\n / \\nFantasy\\n / ...</td>\n",
       "    </tr>\n",
       "  </tbody>\n",
       "</table>\n",
       "</div>"
      ],
      "text/plain": [
       "                                                Name  \\\n",
       "0  \\nThe Hold List: Books to spark and nourish th...   \n",
       "1     \\nFriends-to-lovers (versus the patriarchy!)\\n   \n",
       "2                             \\nI'll Be Seeing You\\n   \n",
       "3                              \\nThe Cold Millions\\n   \n",
       "4                            \\n ★ If the Boot Fits\\n   \n",
       "5                             \\nThe Tower of Fools\\n   \n",
       "\n",
       "                                   Author  \\\n",
       "0  \\nFeature by the editors of BookPage\\n   \n",
       "1         \\nFeature by Dolly R. Sickles\\n   \n",
       "2               \\nReview by Alison Hood\\n   \n",
       "3        \\nReview by Grace Lichtenstein\\n   \n",
       "4            \\nReview by Carole V. Bell\\n   \n",
       "5              \\nReview by Ralph Harris\\n   \n",
       "\n",
       "                                               Genre  \n",
       "0  \\nNonfiction\\n / \\nCrafts & Hobbies\\n / \\nLite...  \n",
       "1  \\nRomance\\n / \\nHistorical Romance\\n / \\nConte...  \n",
       "2  \\nNonfiction\\n / \\nMemoir\\n / \\nFamily & Relat...  \n",
       "3               \\nFiction\\n / \\nHistorical Fiction\\n  \n",
       "4             \\nRomance\\n / \\nContemporary Romance\\n  \n",
       "5  \\nScience Fiction & Fantasy\\n / \\nFantasy\\n / ...  "
      ]
     },
     "execution_count": 10,
     "metadata": {},
     "output_type": "execute_result"
    }
   ],
   "source": [
    "import pandas as pd\n",
    "bookpage=pd.DataFrame({})\n",
    "bookpage['Name']=Book_Name\n",
    "bookpage['Author']=Author\n",
    "bookpage['Genre']=Genre\n",
    "bookpage"
   ]
  },
  {
   "cell_type": "code",
   "execution_count": null,
   "metadata": {},
   "outputs": [],
   "source": []
  }
 ],
 "metadata": {
  "kernelspec": {
   "display_name": "Python 3",
   "language": "python",
   "name": "python3"
  },
  "language_info": {
   "codemirror_mode": {
    "name": "ipython",
    "version": 3
   },
   "file_extension": ".py",
   "mimetype": "text/x-python",
   "name": "python",
   "nbconvert_exporter": "python",
   "pygments_lexer": "ipython3",
   "version": "3.7.6"
  }
 },
 "nbformat": 4,
 "nbformat_minor": 4
}
