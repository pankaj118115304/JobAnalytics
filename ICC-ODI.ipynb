{
 "cells": [
  {
   "cell_type": "code",
   "execution_count": 213,
   "metadata": {},
   "outputs": [],
   "source": [
    "import pandas as pd\n",
    "from bs4 import BeautifulSoup\n",
    "import requests\n",
    "odi=requests.get(\"https://www.icc-cricket.com/rankings/mens/team-rankings/odi\")\n",
    "odi1=BeautifulSoup(odi.content,'html.parser')"
   ]
  },
  {
   "cell_type": "code",
   "execution_count": 214,
   "metadata": {},
   "outputs": [],
   "source": [
    "# we are finding the top 10 odi teams , matches ,points and their Ratings\n",
    "Team=[]\n",
    "Matches=[]\n",
    "Points=[]\n",
    "Ratings=[]"
   ]
  },
  {
   "cell_type": "code",
   "execution_count": 215,
   "metadata": {},
   "outputs": [
    {
     "data": {
      "text/plain": [
       "'ICC Ranking for ODI teams International Cricket Council'"
      ]
     },
     "execution_count": 215,
     "metadata": {},
     "output_type": "execute_result"
    }
   ],
   "source": [
    "odi1.title.text"
   ]
  },
  {
   "cell_type": "code",
   "execution_count": 216,
   "metadata": {},
   "outputs": [
    {
     "data": {
      "text/plain": [
       "[<tr class=\"rankings-block__banner\">\n",
       " <td class=\"rankings-block__banner--pos\">1</td>\n",
       " <td class=\"rankings-block__banner--team-name\">\n",
       " <span class=\"flag-30 rankings-block__banner--flag ENG\"></span>\n",
       " <span class=\"u-hide-phablet\">England</span>\n",
       " <span class=\"u-show-phablet\">ENG</span>\n",
       " </td>\n",
       " <td class=\"rankings-block__banner--matches\">44</td>\n",
       " <td class=\"rankings-block__banner--points\">5,405</td>\n",
       " <td class=\"rankings-block__banner--rating u-text-right\">\n",
       "                             123\n",
       "                             <span class=\"circle-branding circle-branding--top\"></span>\n",
       " <span class=\"circle-branding circle-branding--bottom\"></span>\n",
       " </td>\n",
       " </tr>,\n",
       " <tr class=\"table-body\" data-team-id=\"14\">\n",
       " <td class=\"table-body__cell table-body__cell--position u-text-right\">2</td>\n",
       " <td class=\"table-body__cell rankings-table__team\">\n",
       " <span class=\"flag-15 table-body_logo IND\"></span>\n",
       " <span class=\"u-hide-phablet\">India</span>\n",
       " <span class=\"u-show-phablet\">IND</span>\n",
       " </td>\n",
       " <td class=\"table-body__cell u-center-text\">49</td>\n",
       " <td class=\"table-body__cell u-center-text\">5,819</td>\n",
       " <td class=\"table-body__cell u-text-right rating\">119</td>\n",
       " </tr>,\n",
       " <tr class=\"table-body\" data-team-id=\"16\">\n",
       " <td class=\"table-body__cell table-body__cell--position u-text-right\">3</td>\n",
       " <td class=\"table-body__cell rankings-table__team\">\n",
       " <span class=\"flag-15 table-body_logo NZ\"></span>\n",
       " <span class=\"u-hide-phablet\">New Zealand</span>\n",
       " <span class=\"u-show-phablet\">NZ</span>\n",
       " </td>\n",
       " <td class=\"table-body__cell u-center-text\">32</td>\n",
       " <td class=\"table-body__cell u-center-text\">3,716</td>\n",
       " <td class=\"table-body__cell u-text-right rating\">116</td>\n",
       " </tr>,\n",
       " <tr class=\"table-body\" data-team-id=\"15\">\n",
       " <td class=\"table-body__cell table-body__cell--position u-text-right\">4</td>\n",
       " <td class=\"table-body__cell rankings-table__team\">\n",
       " <span class=\"flag-15 table-body_logo AUS\"></span>\n",
       " <span class=\"u-hide-phablet\">Australia</span>\n",
       " <span class=\"u-show-phablet\">AUS</span>\n",
       " </td>\n",
       " <td class=\"table-body__cell u-center-text\">36</td>\n",
       " <td class=\"table-body__cell u-center-text\">3,941</td>\n",
       " <td class=\"table-body__cell u-text-right rating\">109</td>\n",
       " </tr>,\n",
       " <tr class=\"table-body\" data-team-id=\"19\">\n",
       " <td class=\"table-body__cell table-body__cell--position u-text-right\">5</td>\n",
       " <td class=\"table-body__cell rankings-table__team\">\n",
       " <span class=\"flag-15 table-body_logo SA\"></span>\n",
       " <span class=\"u-hide-phablet\">South Africa</span>\n",
       " <span class=\"u-show-phablet\">SA</span>\n",
       " </td>\n",
       " <td class=\"table-body__cell u-center-text\">31</td>\n",
       " <td class=\"table-body__cell u-center-text\">3,345</td>\n",
       " <td class=\"table-body__cell u-text-right rating\">108</td>\n",
       " </tr>,\n",
       " <tr class=\"table-body\" data-team-id=\"20\">\n",
       " <td class=\"table-body__cell table-body__cell--position u-text-right\">6</td>\n",
       " <td class=\"table-body__cell rankings-table__team\">\n",
       " <span class=\"flag-15 table-body_logo PAK\"></span>\n",
       " <span class=\"u-hide-phablet\">Pakistan</span>\n",
       " <span class=\"u-show-phablet\">PAK</span>\n",
       " </td>\n",
       " <td class=\"table-body__cell u-center-text\">33</td>\n",
       " <td class=\"table-body__cell u-center-text\">3,366</td>\n",
       " <td class=\"table-body__cell u-text-right rating\">102</td>\n",
       " </tr>,\n",
       " <tr class=\"table-body\" data-team-id=\"22\">\n",
       " <td class=\"table-body__cell table-body__cell--position u-text-right\">7</td>\n",
       " <td class=\"table-body__cell rankings-table__team\">\n",
       " <span class=\"flag-15 table-body_logo BAN\"></span>\n",
       " <span class=\"u-hide-phablet\">Bangladesh</span>\n",
       " <span class=\"u-show-phablet\">BAN</span>\n",
       " </td>\n",
       " <td class=\"table-body__cell u-center-text\">34</td>\n",
       " <td class=\"table-body__cell u-center-text\">2,989</td>\n",
       " <td class=\"table-body__cell u-text-right rating\">88</td>\n",
       " </tr>,\n",
       " <tr class=\"table-body\" data-team-id=\"13\">\n",
       " <td class=\"table-body__cell table-body__cell--position u-text-right\">8</td>\n",
       " <td class=\"table-body__cell rankings-table__team\">\n",
       " <span class=\"flag-15 table-body_logo SL\"></span>\n",
       " <span class=\"u-hide-phablet\">Sri Lanka</span>\n",
       " <span class=\"u-show-phablet\">SL</span>\n",
       " </td>\n",
       " <td class=\"table-body__cell u-center-text\">39</td>\n",
       " <td class=\"table-body__cell u-center-text\">3,297</td>\n",
       " <td class=\"table-body__cell u-text-right rating\">85</td>\n",
       " </tr>,\n",
       " <tr class=\"table-body\" data-team-id=\"21\">\n",
       " <td class=\"table-body__cell table-body__cell--position u-text-right\">9</td>\n",
       " <td class=\"table-body__cell rankings-table__team\">\n",
       " <span class=\"flag-15 table-body_logo WI\"></span>\n",
       " <span class=\"u-hide-phablet\">West Indies</span>\n",
       " <span class=\"u-show-phablet\">WI</span>\n",
       " </td>\n",
       " <td class=\"table-body__cell u-center-text\">43</td>\n",
       " <td class=\"table-body__cell u-center-text\">3,285</td>\n",
       " <td class=\"table-body__cell u-text-right rating\">76</td>\n",
       " </tr>,\n",
       " <tr class=\"table-body\" data-team-id=\"17\">\n",
       " <td class=\"table-body__cell table-body__cell--position u-text-right\">10</td>\n",
       " <td class=\"table-body__cell rankings-table__team\">\n",
       " <span class=\"flag-15 table-body_logo AFG\"></span>\n",
       " <span class=\"u-hide-phablet\">Afghanistan</span>\n",
       " <span class=\"u-show-phablet\">AFG</span>\n",
       " </td>\n",
       " <td class=\"table-body__cell u-center-text\">28</td>\n",
       " <td class=\"table-body__cell u-center-text\">1,549</td>\n",
       " <td class=\"table-body__cell u-text-right rating\">55</td>\n",
       " </tr>,\n",
       " <tr class=\"table-body\" data-team-id=\"12\">\n",
       " <td class=\"table-body__cell table-body__cell--position u-text-right\">11</td>\n",
       " <td class=\"table-body__cell rankings-table__team\">\n",
       " <span class=\"flag-15 table-body_logo IRE\"></span>\n",
       " <span class=\"u-hide-phablet\">Ireland</span>\n",
       " <span class=\"u-show-phablet\">IRE</span>\n",
       " </td>\n",
       " <td class=\"table-body__cell u-center-text\">24</td>\n",
       " <td class=\"table-body__cell u-center-text\">1,256</td>\n",
       " <td class=\"table-body__cell u-text-right rating\">52</td>\n",
       " </tr>,\n",
       " <tr class=\"table-body\" data-team-id=\"68\">\n",
       " <td class=\"table-body__cell table-body__cell--position u-text-right\">12</td>\n",
       " <td class=\"table-body__cell rankings-table__team\">\n",
       " <span class=\"flag-15 table-body_logo NED\"></span>\n",
       " <span class=\"u-hide-phablet\">Netherlands</span>\n",
       " <span class=\"u-show-phablet\">NED</span>\n",
       " </td>\n",
       " <td class=\"table-body__cell u-center-text\">5</td>\n",
       " <td class=\"table-body__cell u-center-text\">222</td>\n",
       " <td class=\"table-body__cell u-text-right rating\">44</td>\n",
       " </tr>,\n",
       " <tr class=\"table-body\" data-team-id=\"128\">\n",
       " <td class=\"table-body__cell table-body__cell--position u-text-right\">13</td>\n",
       " <td class=\"table-body__cell rankings-table__team\">\n",
       " <span class=\"flag-15 table-body_logo OMA\"></span>\n",
       " <span class=\"u-hide-phablet\">Oman</span>\n",
       " <span class=\"u-show-phablet\">OMA</span>\n",
       " </td>\n",
       " <td class=\"table-body__cell u-center-text\">12</td>\n",
       " <td class=\"table-body__cell u-center-text\">479</td>\n",
       " <td class=\"table-body__cell u-text-right rating\">40</td>\n",
       " </tr>,\n",
       " <tr class=\"table-body\" data-team-id=\"18\">\n",
       " <td class=\"table-body__cell table-body__cell--position u-text-right\">14</td>\n",
       " <td class=\"table-body__cell rankings-table__team\">\n",
       " <span class=\"flag-15 table-body_logo ZIM\"></span>\n",
       " <span class=\"u-hide-phablet\">Zimbabwe</span>\n",
       " <span class=\"u-show-phablet\">ZIM</span>\n",
       " </td>\n",
       " <td class=\"table-body__cell u-center-text\">25</td>\n",
       " <td class=\"table-body__cell u-center-text\">964</td>\n",
       " <td class=\"table-body__cell u-text-right rating\">39</td>\n",
       " </tr>,\n",
       " <tr class=\"table-body\" data-team-id=\"69\">\n",
       " <td class=\"table-body__cell table-body__cell--position u-text-right\">15</td>\n",
       " <td class=\"table-body__cell rankings-table__team\">\n",
       " <span class=\"flag-15 table-body_logo SCO\"></span>\n",
       " <span class=\"u-hide-phablet\">Scotland</span>\n",
       " <span class=\"u-show-phablet\">SCO</span>\n",
       " </td>\n",
       " <td class=\"table-body__cell u-center-text\">16</td>\n",
       " <td class=\"table-body__cell u-center-text\">419</td>\n",
       " <td class=\"table-body__cell u-text-right rating\">26</td>\n",
       " </tr>,\n",
       " <tr class=\"table-body\" data-team-id=\"125\">\n",
       " <td class=\"table-body__cell table-body__cell--position u-text-right\">16</td>\n",
       " <td class=\"table-body__cell rankings-table__team\">\n",
       " <span class=\"flag-15 table-body_logo NEP\"></span>\n",
       " <span class=\"u-hide-phablet\">Nepal</span>\n",
       " <span class=\"u-show-phablet\">NEP</span>\n",
       " </td>\n",
       " <td class=\"table-body__cell u-center-text\">9</td>\n",
       " <td class=\"table-body__cell u-center-text\">161</td>\n",
       " <td class=\"table-body__cell u-text-right rating\">18</td>\n",
       " </tr>,\n",
       " <tr class=\"table-body\" data-team-id=\"155\">\n",
       " <td class=\"table-body__cell table-body__cell--position u-text-right\">17</td>\n",
       " <td class=\"table-body__cell rankings-table__team\">\n",
       " <span class=\"flag-15 table-body_logo UAE\"></span>\n",
       " <span class=\"u-hide-phablet\">UAE</span>\n",
       " <span class=\"u-show-phablet\">UAE</span>\n",
       " </td>\n",
       " <td class=\"table-body__cell u-center-text\">15</td>\n",
       " <td class=\"table-body__cell u-center-text\">259</td>\n",
       " <td class=\"table-body__cell u-text-right rating\">17</td>\n",
       " </tr>,\n",
       " <tr class=\"table-body\" data-team-id=\"124\">\n",
       " <td class=\"table-body__cell table-body__cell--position u-text-right\">18</td>\n",
       " <td class=\"table-body__cell rankings-table__team\">\n",
       " <span class=\"flag-15 table-body_logo NAM\"></span>\n",
       " <span class=\"u-hide-phablet\">Namibia</span>\n",
       " <span class=\"u-show-phablet\">NAM</span>\n",
       " </td>\n",
       " <td class=\"table-body__cell u-center-text\">9</td>\n",
       " <td class=\"table-body__cell u-center-text\">152</td>\n",
       " <td class=\"table-body__cell u-text-right rating\">17</td>\n",
       " </tr>,\n",
       " <tr class=\"table-body\" data-team-id=\"157\">\n",
       " <td class=\"table-body__cell table-body__cell--position u-text-right\">19</td>\n",
       " <td class=\"table-body__cell rankings-table__team\">\n",
       " <span class=\"flag-15 table-body_logo USA\"></span>\n",
       " <span class=\"u-hide-phablet\">United States</span>\n",
       " <span class=\"u-show-phablet\">USA</span>\n",
       " </td>\n",
       " <td class=\"table-body__cell u-center-text\">14</td>\n",
       " <td class=\"table-body__cell u-center-text\">185</td>\n",
       " <td class=\"table-body__cell u-text-right rating\">13</td>\n",
       " </tr>,\n",
       " <tr class=\"table-body\" data-team-id=\"133\">\n",
       " <td class=\"table-body__cell table-body__cell--position u-text-right\">20</td>\n",
       " <td class=\"table-body__cell rankings-table__team\">\n",
       " <span class=\"flag-15 table-body_logo PNG\"></span>\n",
       " <span class=\"u-hide-phablet\">Papua New Guinea</span>\n",
       " <span class=\"u-show-phablet\">PNG</span>\n",
       " </td>\n",
       " <td class=\"table-body__cell u-center-text\">14</td>\n",
       " <td class=\"table-body__cell u-center-text\">0</td>\n",
       " <td class=\"table-body__cell u-text-right rating\">0</td>\n",
       " </tr>]"
      ]
     },
     "execution_count": 216,
     "metadata": {},
     "output_type": "execute_result"
    }
   ],
   "source": [
    "matches=odi1.find('tbody').findAll('tr')\n",
    "matches"
   ]
  },
  {
   "cell_type": "code",
   "execution_count": 217,
   "metadata": {},
   "outputs": [
    {
     "data": {
      "text/plain": [
       "[<span class=\"u-hide-phablet\">England</span>,\n",
       " <span class=\"u-hide-phablet\">India</span>,\n",
       " <span class=\"u-hide-phablet\">New Zealand</span>,\n",
       " <span class=\"u-hide-phablet\">Australia</span>,\n",
       " <span class=\"u-hide-phablet\">South Africa</span>,\n",
       " <span class=\"u-hide-phablet\">Pakistan</span>,\n",
       " <span class=\"u-hide-phablet\">Bangladesh</span>,\n",
       " <span class=\"u-hide-phablet\">Sri Lanka</span>,\n",
       " <span class=\"u-hide-phablet\">West Indies</span>,\n",
       " <span class=\"u-hide-phablet\">Afghanistan</span>]"
      ]
     },
     "execution_count": 217,
     "metadata": {},
     "output_type": "execute_result"
    }
   ],
   "source": [
    "teams=odi1.find_all('span',class_=\"u-hide-phablet\")\n",
    "teams[0:10]"
   ]
  },
  {
   "cell_type": "code",
   "execution_count": 218,
   "metadata": {},
   "outputs": [
    {
     "data": {
      "text/plain": [
       "['England',\n",
       " 'India',\n",
       " 'New Zealand',\n",
       " 'Australia',\n",
       " 'South Africa',\n",
       " 'Pakistan',\n",
       " 'Bangladesh',\n",
       " 'Sri Lanka',\n",
       " 'West Indies',\n",
       " 'Afghanistan']"
      ]
     },
     "execution_count": 218,
     "metadata": {},
     "output_type": "execute_result"
    }
   ],
   "source": [
    "for i in teams:\n",
    "    Team.append(i.get_text())\n",
    "Team[0:10]"
   ]
  },
  {
   "cell_type": "code",
   "execution_count": 219,
   "metadata": {},
   "outputs": [
    {
     "data": {
      "text/plain": [
       "[<td class=\"table-body__cell u-center-text\">49</td>,\n",
       " <td class=\"table-body__cell u-center-text\">5,819</td>,\n",
       " <td class=\"table-body__cell u-center-text\">32</td>,\n",
       " <td class=\"table-body__cell u-center-text\">3,716</td>,\n",
       " <td class=\"table-body__cell u-center-text\">36</td>,\n",
       " <td class=\"table-body__cell u-center-text\">3,941</td>,\n",
       " <td class=\"table-body__cell u-center-text\">31</td>,\n",
       " <td class=\"table-body__cell u-center-text\">3,345</td>,\n",
       " <td class=\"table-body__cell u-center-text\">33</td>,\n",
       " <td class=\"table-body__cell u-center-text\">3,366</td>,\n",
       " <td class=\"table-body__cell u-center-text\">34</td>,\n",
       " <td class=\"table-body__cell u-center-text\">2,989</td>,\n",
       " <td class=\"table-body__cell u-center-text\">39</td>,\n",
       " <td class=\"table-body__cell u-center-text\">3,297</td>,\n",
       " <td class=\"table-body__cell u-center-text\">43</td>,\n",
       " <td class=\"table-body__cell u-center-text\">3,285</td>,\n",
       " <td class=\"table-body__cell u-center-text\">28</td>,\n",
       " <td class=\"table-body__cell u-center-text\">1,549</td>,\n",
       " <td class=\"table-body__cell u-center-text\">24</td>,\n",
       " <td class=\"table-body__cell u-center-text\">1,256</td>,\n",
       " <td class=\"table-body__cell u-center-text\">5</td>,\n",
       " <td class=\"table-body__cell u-center-text\">222</td>,\n",
       " <td class=\"table-body__cell u-center-text\">12</td>,\n",
       " <td class=\"table-body__cell u-center-text\">479</td>,\n",
       " <td class=\"table-body__cell u-center-text\">25</td>,\n",
       " <td class=\"table-body__cell u-center-text\">964</td>,\n",
       " <td class=\"table-body__cell u-center-text\">16</td>,\n",
       " <td class=\"table-body__cell u-center-text\">419</td>,\n",
       " <td class=\"table-body__cell u-center-text\">9</td>,\n",
       " <td class=\"table-body__cell u-center-text\">161</td>,\n",
       " <td class=\"table-body__cell u-center-text\">15</td>,\n",
       " <td class=\"table-body__cell u-center-text\">259</td>,\n",
       " <td class=\"table-body__cell u-center-text\">9</td>,\n",
       " <td class=\"table-body__cell u-center-text\">152</td>,\n",
       " <td class=\"table-body__cell u-center-text\">14</td>,\n",
       " <td class=\"table-body__cell u-center-text\">185</td>,\n",
       " <td class=\"table-body__cell u-center-text\">14</td>,\n",
       " <td class=\"table-body__cell u-center-text\">0</td>]"
      ]
     },
     "execution_count": 219,
     "metadata": {},
     "output_type": "execute_result"
    }
   ],
   "source": [
    "match=odi1.find_all('td',class_=\"table-body__cell u-center-text\")\n",
    "match"
   ]
  },
  {
   "cell_type": "code",
   "execution_count": 220,
   "metadata": {},
   "outputs": [],
   "source": [
    "first_match=match[0:20:2]"
   ]
  },
  {
   "cell_type": "code",
   "execution_count": 221,
   "metadata": {},
   "outputs": [
    {
     "data": {
      "text/plain": [
       "[<td class=\"table-body__cell u-center-text\">49</td>,\n",
       " <td class=\"table-body__cell u-center-text\">32</td>,\n",
       " <td class=\"table-body__cell u-center-text\">36</td>,\n",
       " <td class=\"table-body__cell u-center-text\">31</td>,\n",
       " <td class=\"table-body__cell u-center-text\">33</td>,\n",
       " <td class=\"table-body__cell u-center-text\">34</td>,\n",
       " <td class=\"table-body__cell u-center-text\">39</td>,\n",
       " <td class=\"table-body__cell u-center-text\">43</td>,\n",
       " <td class=\"table-body__cell u-center-text\">28</td>,\n",
       " <td class=\"table-body__cell u-center-text\">24</td>]"
      ]
     },
     "execution_count": 221,
     "metadata": {},
     "output_type": "execute_result"
    }
   ],
   "source": [
    "first_match"
   ]
  },
  {
   "cell_type": "code",
   "execution_count": 222,
   "metadata": {},
   "outputs": [
    {
     "data": {
      "text/plain": [
       "['49', '32', '36', '31', '33', '34', '39', '43', '28']"
      ]
     },
     "execution_count": 222,
     "metadata": {},
     "output_type": "execute_result"
    }
   ],
   "source": [
    "for i in first_match:\n",
    "    Matches.append(i.get_text())\n",
    "Matches[0:9]"
   ]
  },
  {
   "cell_type": "code",
   "execution_count": 223,
   "metadata": {},
   "outputs": [],
   "source": [
    "m1=pd.DataFrame(Matches)"
   ]
  },
  {
   "cell_type": "code",
   "execution_count": 224,
   "metadata": {},
   "outputs": [
    {
     "data": {
      "text/plain": [
       "[<td class=\"rankings-block__banner--matches\">44</td>]"
      ]
     },
     "execution_count": 224,
     "metadata": {},
     "output_type": "execute_result"
    }
   ],
   "source": [
    "m2=odi1.find_all('td',class_=\"rankings-block__banner--matches\")\n",
    "m2"
   ]
  },
  {
   "cell_type": "code",
   "execution_count": 225,
   "metadata": {},
   "outputs": [],
   "source": [
    "n1=[]"
   ]
  },
  {
   "cell_type": "code",
   "execution_count": 226,
   "metadata": {},
   "outputs": [
    {
     "data": {
      "text/plain": [
       "['44']"
      ]
     },
     "execution_count": 226,
     "metadata": {},
     "output_type": "execute_result"
    }
   ],
   "source": [
    "for i in m2:\n",
    "    n1.append(i.get_text())\n",
    "n1[0:10]"
   ]
  },
  {
   "cell_type": "code",
   "execution_count": 227,
   "metadata": {},
   "outputs": [],
   "source": [
    "m3=pd.DataFrame(n1)"
   ]
  },
  {
   "cell_type": "code",
   "execution_count": 236,
   "metadata": {},
   "outputs": [],
   "source": [
    "TM=pd.concat([m3,m1])"
   ]
  },
  {
   "cell_type": "code",
   "execution_count": 238,
   "metadata": {},
   "outputs": [
    {
     "data": {
      "text/html": [
       "<div>\n",
       "<style scoped>\n",
       "    .dataframe tbody tr th:only-of-type {\n",
       "        vertical-align: middle;\n",
       "    }\n",
       "\n",
       "    .dataframe tbody tr th {\n",
       "        vertical-align: top;\n",
       "    }\n",
       "\n",
       "    .dataframe thead th {\n",
       "        text-align: right;\n",
       "    }\n",
       "</style>\n",
       "<table border=\"1\" class=\"dataframe\">\n",
       "  <thead>\n",
       "    <tr style=\"text-align: right;\">\n",
       "      <th></th>\n",
       "      <th>0</th>\n",
       "    </tr>\n",
       "  </thead>\n",
       "  <tbody>\n",
       "    <tr>\n",
       "      <th>0</th>\n",
       "      <td>44</td>\n",
       "    </tr>\n",
       "    <tr>\n",
       "      <th>0</th>\n",
       "      <td>49</td>\n",
       "    </tr>\n",
       "    <tr>\n",
       "      <th>1</th>\n",
       "      <td>32</td>\n",
       "    </tr>\n",
       "    <tr>\n",
       "      <th>2</th>\n",
       "      <td>36</td>\n",
       "    </tr>\n",
       "    <tr>\n",
       "      <th>3</th>\n",
       "      <td>31</td>\n",
       "    </tr>\n",
       "    <tr>\n",
       "      <th>4</th>\n",
       "      <td>33</td>\n",
       "    </tr>\n",
       "    <tr>\n",
       "      <th>5</th>\n",
       "      <td>34</td>\n",
       "    </tr>\n",
       "    <tr>\n",
       "      <th>6</th>\n",
       "      <td>39</td>\n",
       "    </tr>\n",
       "    <tr>\n",
       "      <th>7</th>\n",
       "      <td>43</td>\n",
       "    </tr>\n",
       "    <tr>\n",
       "      <th>8</th>\n",
       "      <td>28</td>\n",
       "    </tr>\n",
       "  </tbody>\n",
       "</table>\n",
       "</div>"
      ],
      "text/plain": [
       "    0\n",
       "0  44\n",
       "0  49\n",
       "1  32\n",
       "2  36\n",
       "3  31\n",
       "4  33\n",
       "5  34\n",
       "6  39\n",
       "7  43\n",
       "8  28"
      ]
     },
     "execution_count": 238,
     "metadata": {},
     "output_type": "execute_result"
    }
   ],
   "source": [
    "TM[0:10]"
   ]
  },
  {
   "cell_type": "code",
   "execution_count": 229,
   "metadata": {},
   "outputs": [],
   "source": [
    "first_point=match[1:20:2]"
   ]
  },
  {
   "cell_type": "code",
   "execution_count": 230,
   "metadata": {},
   "outputs": [
    {
     "data": {
      "text/plain": [
       "[<td class=\"table-body__cell u-center-text\">5,819</td>,\n",
       " <td class=\"table-body__cell u-center-text\">3,716</td>,\n",
       " <td class=\"table-body__cell u-center-text\">3,941</td>,\n",
       " <td class=\"table-body__cell u-center-text\">3,345</td>,\n",
       " <td class=\"table-body__cell u-center-text\">3,366</td>,\n",
       " <td class=\"table-body__cell u-center-text\">2,989</td>,\n",
       " <td class=\"table-body__cell u-center-text\">3,297</td>,\n",
       " <td class=\"table-body__cell u-center-text\">3,285</td>,\n",
       " <td class=\"table-body__cell u-center-text\">1,549</td>,\n",
       " <td class=\"table-body__cell u-center-text\">1,256</td>]"
      ]
     },
     "execution_count": 230,
     "metadata": {},
     "output_type": "execute_result"
    }
   ],
   "source": [
    "first_point"
   ]
  },
  {
   "cell_type": "code",
   "execution_count": 231,
   "metadata": {},
   "outputs": [
    {
     "data": {
      "text/plain": [
       "['5,819',\n",
       " '3,716',\n",
       " '3,941',\n",
       " '3,345',\n",
       " '3,366',\n",
       " '2,989',\n",
       " '3,297',\n",
       " '3,285',\n",
       " '1,549']"
      ]
     },
     "execution_count": 231,
     "metadata": {},
     "output_type": "execute_result"
    }
   ],
   "source": [
    "for i in first_point:\n",
    "    Points.append(i.get_text())\n",
    "Points[0:9]"
   ]
  },
  {
   "cell_type": "code",
   "execution_count": 232,
   "metadata": {},
   "outputs": [
    {
     "data": {
      "text/plain": [
       "[<td class=\"table-body__cell u-text-right rating\">119</td>,\n",
       " <td class=\"table-body__cell u-text-right rating\">116</td>,\n",
       " <td class=\"table-body__cell u-text-right rating\">109</td>,\n",
       " <td class=\"table-body__cell u-text-right rating\">108</td>,\n",
       " <td class=\"table-body__cell u-text-right rating\">102</td>,\n",
       " <td class=\"table-body__cell u-text-right rating\">88</td>,\n",
       " <td class=\"table-body__cell u-text-right rating\">85</td>,\n",
       " <td class=\"table-body__cell u-text-right rating\">76</td>,\n",
       " <td class=\"table-body__cell u-text-right rating\">55</td>]"
      ]
     },
     "execution_count": 232,
     "metadata": {},
     "output_type": "execute_result"
    }
   ],
   "source": [
    "rating=odi1.find_all('td',class_=\"table-body__cell u-text-right rating\")\n",
    "rating[0:9]"
   ]
  },
  {
   "cell_type": "code",
   "execution_count": 233,
   "metadata": {},
   "outputs": [
    {
     "data": {
      "text/plain": [
       "['119', '116', '109', '108', '102', '88', '85', '76', '55']"
      ]
     },
     "execution_count": 233,
     "metadata": {},
     "output_type": "execute_result"
    }
   ],
   "source": [
    "for i in rating:\n",
    "    Ratings.append(i.get_text())\n",
    "Ratings[0:9]"
   ]
  },
  {
   "cell_type": "code",
   "execution_count": 239,
   "metadata": {},
   "outputs": [
    {
     "name": "stdout",
     "output_type": "stream",
     "text": [
      "25 10 19 11\n"
     ]
    }
   ],
   "source": [
    "print(len(Team),len(Points),len(Ratings),len(TM))"
   ]
  },
  {
   "cell_type": "code",
   "execution_count": null,
   "metadata": {},
   "outputs": [],
   "source": []
  }
 ],
 "metadata": {
  "kernelspec": {
   "display_name": "Python 3",
   "language": "python",
   "name": "python3"
  },
  "language_info": {
   "codemirror_mode": {
    "name": "ipython",
    "version": 3
   },
   "file_extension": ".py",
   "mimetype": "text/x-python",
   "name": "python",
   "nbconvert_exporter": "python",
   "pygments_lexer": "ipython3",
   "version": "3.7.6"
  }
 },
 "nbformat": 4,
 "nbformat_minor": 4
}
