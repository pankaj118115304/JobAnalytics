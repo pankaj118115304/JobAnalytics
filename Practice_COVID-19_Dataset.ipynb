{
 "cells": [
  {
   "cell_type": "code",
   "execution_count": 67,
   "metadata": {},
   "outputs": [],
   "source": [
    "import pandas as pd\n",
    "import numpy as np\n",
    "import seaborn as sns\n",
    "import matplotlib.pyplot as plt\n",
    "import warnings\n",
    "warnings.filterwarnings('ignore')"
   ]
  },
  {
   "cell_type": "code",
   "execution_count": 68,
   "metadata": {},
   "outputs": [
    {
     "data": {
      "text/html": [
       "<div>\n",
       "<style scoped>\n",
       "    .dataframe tbody tr th:only-of-type {\n",
       "        vertical-align: middle;\n",
       "    }\n",
       "\n",
       "    .dataframe tbody tr th {\n",
       "        vertical-align: top;\n",
       "    }\n",
       "\n",
       "    .dataframe thead th {\n",
       "        text-align: right;\n",
       "    }\n",
       "</style>\n",
       "<table border=\"1\" class=\"dataframe\">\n",
       "  <thead>\n",
       "    <tr style=\"text-align: right;\">\n",
       "      <th></th>\n",
       "      <th>Date</th>\n",
       "      <th>Country</th>\n",
       "      <th>Confirmed</th>\n",
       "      <th>Recovered</th>\n",
       "      <th>Deaths</th>\n",
       "    </tr>\n",
       "  </thead>\n",
       "  <tbody>\n",
       "    <tr>\n",
       "      <th>0</th>\n",
       "      <td>2020-01-22</td>\n",
       "      <td>Afghanistan</td>\n",
       "      <td>0</td>\n",
       "      <td>0</td>\n",
       "      <td>0</td>\n",
       "    </tr>\n",
       "    <tr>\n",
       "      <th>1</th>\n",
       "      <td>2020-01-22</td>\n",
       "      <td>Albania</td>\n",
       "      <td>0</td>\n",
       "      <td>0</td>\n",
       "      <td>0</td>\n",
       "    </tr>\n",
       "    <tr>\n",
       "      <th>2</th>\n",
       "      <td>2020-01-22</td>\n",
       "      <td>Algeria</td>\n",
       "      <td>0</td>\n",
       "      <td>0</td>\n",
       "      <td>0</td>\n",
       "    </tr>\n",
       "    <tr>\n",
       "      <th>3</th>\n",
       "      <td>2020-01-22</td>\n",
       "      <td>Andorra</td>\n",
       "      <td>0</td>\n",
       "      <td>0</td>\n",
       "      <td>0</td>\n",
       "    </tr>\n",
       "    <tr>\n",
       "      <th>4</th>\n",
       "      <td>2020-01-22</td>\n",
       "      <td>Angola</td>\n",
       "      <td>0</td>\n",
       "      <td>0</td>\n",
       "      <td>0</td>\n",
       "    </tr>\n",
       "    <tr>\n",
       "      <th>...</th>\n",
       "      <td>...</td>\n",
       "      <td>...</td>\n",
       "      <td>...</td>\n",
       "      <td>...</td>\n",
       "      <td>...</td>\n",
       "    </tr>\n",
       "    <tr>\n",
       "      <th>23683</th>\n",
       "      <td>2020-05-26</td>\n",
       "      <td>West Bank and Gaza</td>\n",
       "      <td>429</td>\n",
       "      <td>365</td>\n",
       "      <td>3</td>\n",
       "    </tr>\n",
       "    <tr>\n",
       "      <th>23684</th>\n",
       "      <td>2020-05-26</td>\n",
       "      <td>Western Sahara</td>\n",
       "      <td>9</td>\n",
       "      <td>6</td>\n",
       "      <td>1</td>\n",
       "    </tr>\n",
       "    <tr>\n",
       "      <th>23685</th>\n",
       "      <td>2020-05-26</td>\n",
       "      <td>Yemen</td>\n",
       "      <td>249</td>\n",
       "      <td>10</td>\n",
       "      <td>49</td>\n",
       "    </tr>\n",
       "    <tr>\n",
       "      <th>23686</th>\n",
       "      <td>2020-05-26</td>\n",
       "      <td>Zambia</td>\n",
       "      <td>920</td>\n",
       "      <td>336</td>\n",
       "      <td>7</td>\n",
       "    </tr>\n",
       "    <tr>\n",
       "      <th>23687</th>\n",
       "      <td>2020-05-26</td>\n",
       "      <td>Zimbabwe</td>\n",
       "      <td>56</td>\n",
       "      <td>25</td>\n",
       "      <td>4</td>\n",
       "    </tr>\n",
       "  </tbody>\n",
       "</table>\n",
       "<p>23688 rows × 5 columns</p>\n",
       "</div>"
      ],
      "text/plain": [
       "            Date             Country  Confirmed  Recovered  Deaths\n",
       "0     2020-01-22         Afghanistan          0          0       0\n",
       "1     2020-01-22             Albania          0          0       0\n",
       "2     2020-01-22             Algeria          0          0       0\n",
       "3     2020-01-22             Andorra          0          0       0\n",
       "4     2020-01-22              Angola          0          0       0\n",
       "...          ...                 ...        ...        ...     ...\n",
       "23683 2020-05-26  West Bank and Gaza        429        365       3\n",
       "23684 2020-05-26      Western Sahara          9          6       1\n",
       "23685 2020-05-26               Yemen        249         10      49\n",
       "23686 2020-05-26              Zambia        920        336       7\n",
       "23687 2020-05-26            Zimbabwe         56         25       4\n",
       "\n",
       "[23688 rows x 5 columns]"
      ]
     },
     "execution_count": 68,
     "metadata": {},
     "output_type": "execute_result"
    }
   ],
   "source": [
    "cds=pd.read_csv('COVID-19_Report.csv',parse_dates=['Date'])\n",
    "cds"
   ]
  },
  {
   "cell_type": "code",
   "execution_count": 69,
   "metadata": {},
   "outputs": [
    {
     "data": {
      "text/plain": [
       "(23688, 5)"
      ]
     },
     "execution_count": 69,
     "metadata": {},
     "output_type": "execute_result"
    }
   ],
   "source": [
    "# checking the shape\n",
    "cds.shape"
   ]
  },
  {
   "cell_type": "code",
   "execution_count": 70,
   "metadata": {},
   "outputs": [
    {
     "data": {
      "text/plain": [
       "Date         datetime64[ns]\n",
       "Country              object\n",
       "Confirmed             int64\n",
       "Recovered             int64\n",
       "Deaths                int64\n",
       "dtype: object"
      ]
     },
     "execution_count": 70,
     "metadata": {},
     "output_type": "execute_result"
    }
   ],
   "source": [
    "# checking the datatypes\n",
    "cds.dtypes"
   ]
  },
  {
   "cell_type": "code",
   "execution_count": 71,
   "metadata": {},
   "outputs": [
    {
     "data": {
      "text/plain": [
       "Date         0\n",
       "Country      0\n",
       "Confirmed    0\n",
       "Recovered    0\n",
       "Deaths       0\n",
       "dtype: int64"
      ]
     },
     "execution_count": 71,
     "metadata": {},
     "output_type": "execute_result"
    }
   ],
   "source": [
    "# checking the null values \n",
    "cds.isnull().sum()"
   ]
  },
  {
   "cell_type": "code",
   "execution_count": 72,
   "metadata": {},
   "outputs": [
    {
     "data": {
      "text/plain": [
       "<matplotlib.axes._subplots.AxesSubplot at 0x25435cc4708>"
      ]
     },
     "execution_count": 72,
     "metadata": {},
     "output_type": "execute_result"
    },
    {
     "data": {
      "image/png": "[encoded data removed]",
      "text/plain": [
       "<Figure size 432x288 with 2 Axes>"
      ]
     },
     "metadata": {
      "needs_background": "light"
     },
     "output_type": "display_data"
    }
   ],
   "source": [
    "# checking null values through heatmap\n",
    "sns.heatmap(cds.isnull())"
   ]
  },
  {
   "cell_type": "code",
   "execution_count": 73,
   "metadata": {},
   "outputs": [
    {
     "data": {
      "text/html": [
       "<div>\n",
       "<style scoped>\n",
       "    .dataframe tbody tr th:only-of-type {\n",
       "        vertical-align: middle;\n",
       "    }\n",
       "\n",
       "    .dataframe tbody tr th {\n",
       "        vertical-align: top;\n",
       "    }\n",
       "\n",
       "    .dataframe thead th {\n",
       "        text-align: right;\n",
       "    }\n",
       "</style>\n",
       "<table border=\"1\" class=\"dataframe\">\n",
       "  <thead>\n",
       "    <tr style=\"text-align: right;\">\n",
       "      <th></th>\n",
       "      <th>Month</th>\n",
       "      <th>Year</th>\n",
       "      <th>Day</th>\n",
       "      <th>Confirmed</th>\n",
       "      <th>Recovered</th>\n",
       "      <th>Deaths</th>\n",
       "    </tr>\n",
       "  </thead>\n",
       "  <tbody>\n",
       "    <tr>\n",
       "      <th>0</th>\n",
       "      <td>January</td>\n",
       "      <td>2020</td>\n",
       "      <td>Wednesday</td>\n",
       "      <td>0</td>\n",
       "      <td>0</td>\n",
       "      <td>0</td>\n",
       "    </tr>\n",
       "    <tr>\n",
       "      <th>1</th>\n",
       "      <td>January</td>\n",
       "      <td>2020</td>\n",
       "      <td>Wednesday</td>\n",
       "      <td>0</td>\n",
       "      <td>0</td>\n",
       "      <td>0</td>\n",
       "    </tr>\n",
       "    <tr>\n",
       "      <th>2</th>\n",
       "      <td>January</td>\n",
       "      <td>2020</td>\n",
       "      <td>Wednesday</td>\n",
       "      <td>0</td>\n",
       "      <td>0</td>\n",
       "      <td>0</td>\n",
       "    </tr>\n",
       "    <tr>\n",
       "      <th>3</th>\n",
       "      <td>January</td>\n",
       "      <td>2020</td>\n",
       "      <td>Wednesday</td>\n",
       "      <td>0</td>\n",
       "      <td>0</td>\n",
       "      <td>0</td>\n",
       "    </tr>\n",
       "    <tr>\n",
       "      <th>4</th>\n",
       "      <td>January</td>\n",
       "      <td>2020</td>\n",
       "      <td>Wednesday</td>\n",
       "      <td>0</td>\n",
       "      <td>0</td>\n",
       "      <td>0</td>\n",
       "    </tr>\n",
       "    <tr>\n",
       "      <th>...</th>\n",
       "      <td>...</td>\n",
       "      <td>...</td>\n",
       "      <td>...</td>\n",
       "      <td>...</td>\n",
       "      <td>...</td>\n",
       "      <td>...</td>\n",
       "    </tr>\n",
       "    <tr>\n",
       "      <th>23683</th>\n",
       "      <td>May</td>\n",
       "      <td>2020</td>\n",
       "      <td>Tuesday</td>\n",
       "      <td>429</td>\n",
       "      <td>365</td>\n",
       "      <td>3</td>\n",
       "    </tr>\n",
       "    <tr>\n",
       "      <th>23684</th>\n",
       "      <td>May</td>\n",
       "      <td>2020</td>\n",
       "      <td>Tuesday</td>\n",
       "      <td>9</td>\n",
       "      <td>6</td>\n",
       "      <td>1</td>\n",
       "    </tr>\n",
       "    <tr>\n",
       "      <th>23685</th>\n",
       "      <td>May</td>\n",
       "      <td>2020</td>\n",
       "      <td>Tuesday</td>\n",
       "      <td>249</td>\n",
       "      <td>10</td>\n",
       "      <td>49</td>\n",
       "    </tr>\n",
       "    <tr>\n",
       "      <th>23686</th>\n",
       "      <td>May</td>\n",
       "      <td>2020</td>\n",
       "      <td>Tuesday</td>\n",
       "      <td>920</td>\n",
       "      <td>336</td>\n",
       "      <td>7</td>\n",
       "    </tr>\n",
       "    <tr>\n",
       "      <th>23687</th>\n",
       "      <td>May</td>\n",
       "      <td>2020</td>\n",
       "      <td>Tuesday</td>\n",
       "      <td>56</td>\n",
       "      <td>25</td>\n",
       "      <td>4</td>\n",
       "    </tr>\n",
       "  </tbody>\n",
       "</table>\n",
       "<p>23688 rows × 6 columns</p>\n",
       "</div>"
      ],
      "text/plain": [
       "         Month  Year        Day  Confirmed  Recovered  Deaths\n",
       "0      January  2020  Wednesday          0          0       0\n",
       "1      January  2020  Wednesday          0          0       0\n",
       "2      January  2020  Wednesday          0          0       0\n",
       "3      January  2020  Wednesday          0          0       0\n",
       "4      January  2020  Wednesday          0          0       0\n",
       "...        ...   ...        ...        ...        ...     ...\n",
       "23683      May  2020    Tuesday        429        365       3\n",
       "23684      May  2020    Tuesday          9          6       1\n",
       "23685      May  2020    Tuesday        249         10      49\n",
       "23686      May  2020    Tuesday        920        336       7\n",
       "23687      May  2020    Tuesday         56         25       4\n",
       "\n",
       "[23688 rows x 6 columns]"
      ]
     },
     "execution_count": 73,
     "metadata": {},
     "output_type": "execute_result"
    }
   ],
   "source": [
    "# from date we can get monthly ,daily covid cases\n",
    "cds_dates=pd.DataFrame()\n",
    "cds_dates['Month']=cds['Date'].dt.month_name()\n",
    "cds_dates['Year']=cds['Date'].dt.year\n",
    "cds_dates['Day']=cds['Date'].dt.day_name()\n",
    "cds_dates['Confirmed']=cds['Confirmed']\n",
    "cds_dates['Recovered']=cds['Recovered']\n",
    "cds_dates['Deaths']=cds['Deaths']\n",
    "cds_dates"
   ]
  },
  {
   "cell_type": "code",
   "execution_count": 74,
   "metadata": {},
   "outputs": [
    {
     "data": {
      "text/plain": [
       "<matplotlib.axes._subplots.AxesSubplot at 0x254366d8f88>"
      ]
     },
     "execution_count": 74,
     "metadata": {},
     "output_type": "execute_result"
    },
    {
     "data": {
      "image/png": "[encoded data removed]",
      "text/plain": [
       "<Figure size 432x288 with 1 Axes>"
      ]
     },
     "metadata": {
      "needs_background": "light"
     },
     "output_type": "display_data"
    }
   ],
   "source": [
    "# checking deaths are increasing day by day\n",
    "sns.barplot(x='Day',y='Deaths',data=cds_dates)"
   ]
  },
  {
   "cell_type": "code",
   "execution_count": 75,
   "metadata": {},
   "outputs": [
    {
     "data": {
      "text/plain": [
       "<matplotlib.axes._subplots.AxesSubplot at 0x25436752f88>"
      ]
     },
     "execution_count": 75,
     "metadata": {},
     "output_type": "execute_result"
    },
    {
     "data": {
      "image/png": "[encoded data removed]",
      "text/plain": [
       "<Figure size 432x288 with 1 Axes>"
      ]
     },
     "metadata": {
      "needs_background": "light"
     },
     "output_type": "display_data"
    }
   ],
   "source": [
    "# checking recovered cases day by day\n",
    "sns.barplot(x='Day',y='Recovered',data=cds_dates)"
   ]
  },
  {
   "cell_type": "code",
   "execution_count": 76,
   "metadata": {},
   "outputs": [
    {
     "data": {
      "text/plain": [
       "{'whiskers': [<matplotlib.lines.Line2D at 0x25436811f48>,\n",
       "  <matplotlib.lines.Line2D at 0x25436811c48>],\n",
       " 'caps': [<matplotlib.lines.Line2D at 0x2543681ad08>,\n",
       "  <matplotlib.lines.Line2D at 0x2543681ae48>],\n",
       " 'boxes': [<matplotlib.lines.Line2D at 0x2543672cf48>],\n",
       " 'medians': [<matplotlib.lines.Line2D at 0x2543681aec8>],\n",
       " 'fliers': [<matplotlib.lines.Line2D at 0x25436820d88>],\n",
       " 'means': []}"
      ]
     },
     "execution_count": 76,
     "metadata": {},
     "output_type": "execute_result"
    },
    {
     "data": {
      "image/png": "[encoded data removed]",
      "text/plain": [
       "<Figure size 432x288 with 1 Axes>"
      ]
     },
     "metadata": {
      "needs_background": "light"
     },
     "output_type": "display_data"
    }
   ],
   "source": [
    "plt.boxplot(cds['Recovered'])"
   ]
  },
  {
   "cell_type": "code",
   "execution_count": 77,
   "metadata": {},
   "outputs": [
    {
     "data": {
      "text/plain": [
       "{'whiskers': [<matplotlib.lines.Line2D at 0x25436883948>,\n",
       "  <matplotlib.lines.Line2D at 0x25436883e88>],\n",
       " 'caps': [<matplotlib.lines.Line2D at 0x25436883fc8>,\n",
       "  <matplotlib.lines.Line2D at 0x25436888988>],\n",
       " 'boxes': [<matplotlib.lines.Line2D at 0x25436752308>],\n",
       " 'medians': [<matplotlib.lines.Line2D at 0x25436888f08>],\n",
       " 'fliers': [<matplotlib.lines.Line2D at 0x25436888b48>],\n",
       " 'means': []}"
      ]
     },
     "execution_count": 77,
     "metadata": {},
     "output_type": "execute_result"
    },
    {
     "data": {
      "image/png": "[encoded data removed]",
      "text/plain": [
       "<Figure size 432x288 with 1 Axes>"
      ]
     },
     "metadata": {
      "needs_background": "light"
     },
     "output_type": "display_data"
    }
   ],
   "source": [
    "plt.boxplot(cds['Deaths'])"
   ]
  },
  {
   "cell_type": "code",
   "execution_count": 78,
   "metadata": {},
   "outputs": [
    {
     "data": {
      "text/plain": [
       "{'whiskers': [<matplotlib.lines.Line2D at 0x254368ea9c8>,\n",
       "  <matplotlib.lines.Line2D at 0x254368eaf48>],\n",
       " 'caps': [<matplotlib.lines.Line2D at 0x254368ef8c8>,\n",
       "  <matplotlib.lines.Line2D at 0x254368efec8>],\n",
       " 'boxes': [<matplotlib.lines.Line2D at 0x254368e7f08>],\n",
       " 'medians': [<matplotlib.lines.Line2D at 0x254368effc8>],\n",
       " 'fliers': [<matplotlib.lines.Line2D at 0x254368f3f48>],\n",
       " 'means': []}"
      ]
     },
     "execution_count": 78,
     "metadata": {},
     "output_type": "execute_result"
    },
    {
     "data": {
      "image/png": "[encoded data removed]",
      "text/plain": [
       "<Figure size 432x288 with 1 Axes>"
      ]
     },
     "metadata": {
      "needs_background": "light"
     },
     "output_type": "display_data"
    }
   ],
   "source": [
    "plt.boxplot(cds['Confirmed'])"
   ]
  },
  {
   "cell_type": "code",
   "execution_count": 79,
   "metadata": {},
   "outputs": [
    {
     "data": {
      "text/html": [
       "<div>\n",
       "<style scoped>\n",
       "    .dataframe tbody tr th:only-of-type {\n",
       "        vertical-align: middle;\n",
       "    }\n",
       "\n",
       "    .dataframe tbody tr th {\n",
       "        vertical-align: top;\n",
       "    }\n",
       "\n",
       "    .dataframe thead th {\n",
       "        text-align: right;\n",
       "    }\n",
       "</style>\n",
       "<table border=\"1\" class=\"dataframe\">\n",
       "  <thead>\n",
       "    <tr style=\"text-align: right;\">\n",
       "      <th></th>\n",
       "      <th>Recovered</th>\n",
       "      <th>Deaths</th>\n",
       "    </tr>\n",
       "  </thead>\n",
       "  <tbody>\n",
       "    <tr>\n",
       "      <th>0</th>\n",
       "      <td>0</td>\n",
       "      <td>0</td>\n",
       "    </tr>\n",
       "    <tr>\n",
       "      <th>1</th>\n",
       "      <td>0</td>\n",
       "      <td>0</td>\n",
       "    </tr>\n",
       "    <tr>\n",
       "      <th>2</th>\n",
       "      <td>0</td>\n",
       "      <td>0</td>\n",
       "    </tr>\n",
       "    <tr>\n",
       "      <th>3</th>\n",
       "      <td>0</td>\n",
       "      <td>0</td>\n",
       "    </tr>\n",
       "    <tr>\n",
       "      <th>4</th>\n",
       "      <td>0</td>\n",
       "      <td>0</td>\n",
       "    </tr>\n",
       "  </tbody>\n",
       "</table>\n",
       "</div>"
      ],
      "text/plain": [
       "   Recovered  Deaths\n",
       "0          0       0\n",
       "1          0       0\n",
       "2          0       0\n",
       "3          0       0\n",
       "4          0       0"
      ]
     },
     "execution_count": 79,
     "metadata": {},
     "output_type": "execute_result"
    }
   ],
   "source": [
    "# spliting the model into input and output variables\n",
    "x=cds.drop(columns=['Date','Country','Confirmed'])\n",
    "x.head()"
   ]
  },
  {
   "cell_type": "code",
   "execution_count": 80,
   "metadata": {},
   "outputs": [
    {
     "data": {
      "text/plain": [
       "0    0\n",
       "1    0\n",
       "2    0\n",
       "3    0\n",
       "4    0\n",
       "Name: Confirmed, dtype: int64"
      ]
     },
     "execution_count": 80,
     "metadata": {},
     "output_type": "execute_result"
    }
   ],
   "source": [
    "y=cds['Confirmed']\n",
    "y.head()"
   ]
  },
  {
   "cell_type": "code",
   "execution_count": 81,
   "metadata": {},
   "outputs": [],
   "source": [
    "from sklearn.linear_model import LinearRegression\n",
    "from sklearn.model_selection import train_test_split,cross_val_score\n",
    "x_train,x_test,y_train,y_test=train_test_split(x,y,test_size=.20,random_state=42)\n",
    "from sklearn.metrics import mean_squared_error,mean_absolute_error,r2_score"
   ]
  },
  {
   "cell_type": "code",
   "execution_count": 82,
   "metadata": {},
   "outputs": [
    {
     "name": "stdout",
     "output_type": "stream",
     "text": [
      "(18950, 2) (4738, 2)\n"
     ]
    }
   ],
   "source": [
    "print(x_train.shape,x_test.shape)"
   ]
  },
  {
   "cell_type": "code",
   "execution_count": 83,
   "metadata": {},
   "outputs": [
    {
     "name": "stdout",
     "output_type": "stream",
     "text": [
      "(18950,) (4738,)\n"
     ]
    }
   ],
   "source": [
    "print(y_train.shape,y_test.shape)"
   ]
  },
  {
   "cell_type": "code",
   "execution_count": 84,
   "metadata": {},
   "outputs": [
    {
     "data": {
      "text/plain": [
       "array([ 0.88936827, 10.43025242])"
      ]
     },
     "execution_count": 84,
     "metadata": {},
     "output_type": "execute_result"
    }
   ],
   "source": [
    "lrg.coef_"
   ]
  },
  {
   "cell_type": "code",
   "execution_count": 85,
   "metadata": {},
   "outputs": [
    {
     "data": {
      "text/plain": [
       "100.82272972215469"
      ]
     },
     "execution_count": 85,
     "metadata": {},
     "output_type": "execute_result"
    }
   ],
   "source": [
    "lrg.intercept_"
   ]
  },
  {
   "cell_type": "code",
   "execution_count": 86,
   "metadata": {},
   "outputs": [
    {
     "data": {
      "text/plain": [
       "0.8790935320269673"
      ]
     },
     "execution_count": 86,
     "metadata": {},
     "output_type": "execute_result"
    }
   ],
   "source": [
    "lrg.score(x_train,y_train)"
   ]
  },
  {
   "cell_type": "code",
   "execution_count": 87,
   "metadata": {},
   "outputs": [
    {
     "name": "stdout",
     "output_type": "stream",
     "text": [
      "r2 score cooresponding to random state 42 is: 0.8950448769812088\n",
      "r2 score cooresponding to random state 43 is: 0.8779206446720714\n",
      "r2 score cooresponding to random state 44 is: 0.8400910235645052\n",
      "r2 score cooresponding to random state 45 is: 0.8898390915011909\n",
      "r2 score cooresponding to random state 46 is: 0.8919057103979464\n",
      "r2 score cooresponding to random state 47 is: 0.8474766267265474\n",
      "r2 score cooresponding to random state 48 is: 0.8775690909232413\n",
      "r2 score cooresponding to random state 49 is: 0.8441882406260565\n",
      "r2 score cooresponding to random state 50 is: 0.9094258597898228\n",
      "r2 score cooresponding to random state 51 is: 0.9111867723500058\n",
      "r2 score cooresponding to random state 52 is: 0.8555713301732139\n",
      "r2 score cooresponding to random state 53 is: 0.8905449511101975\n",
      "r2 score cooresponding to random state 54 is: 0.9028770471501655\n",
      "r2 score cooresponding to random state 55 is: 0.8980619700856766\n",
      "r2 score cooresponding to random state 56 is: 0.8404017116175586\n",
      "r2 score cooresponding to random state 57 is: 0.9009261971099846\n",
      "r2 score cooresponding to random state 58 is: 0.8676061344615759\n",
      "r2 score cooresponding to random state 59 is: 0.8937581325286554\n",
      "r2 score cooresponding to random state 60 is: 0.8645197640305732\n",
      "r2 score cooresponding to random state 61 is: 0.8025576721335861\n",
      "r2 score cooresponding to random state 62 is: 0.7810314549165246\n",
      "r2 score cooresponding to random state 63 is: 0.8991988659067791\n",
      "r2 score cooresponding to random state 64 is: 0.8903320948186566\n",
      "r2 score cooresponding to random state 65 is: 0.8874190846166583\n",
      "r2 score cooresponding to random state 66 is: 0.9146158092130482\n",
      "r2 score cooresponding to random state 67 is: 0.8860437424921371\n",
      "r2 score cooresponding to random state 68 is: 0.9054691413878438\n",
      "r2 score cooresponding to random state 69 is: 0.8450955463503403\n",
      "r2 score cooresponding to random state 70 is: 0.8936396600923322\n",
      "r2 score cooresponding to random state 71 is: 0.9048441811449127\n",
      "r2 score cooresponding to random state 72 is: 0.8862914537409917\n",
      "r2 score cooresponding to random state 73 is: 0.8828037421412231\n",
      "r2 score cooresponding to random state 74 is: 0.8635688971003079\n",
      "r2 score cooresponding to random state 75 is: 0.7945247142777843\n",
      "r2 score cooresponding to random state 76 is: 0.8959310229628142\n",
      "r2 score cooresponding to random state 77 is: 0.8907059496307725\n",
      "r2 score cooresponding to random state 78 is: 0.8686747226636778\n",
      "r2 score cooresponding to random state 79 is: 0.9079406077723045\n",
      "r2 score cooresponding to random state 80 is: 0.8478262103861123\n",
      "r2 score cooresponding to random state 81 is: 0.858147672386658\n",
      "r2 score cooresponding to random state 82 is: 0.8026979529006998\n",
      "r2 score cooresponding to random state 83 is: 0.8961787378119075\n",
      "r2 score cooresponding to random state 84 is: 0.8329494739015257\n",
      "r2 score cooresponding to random state 85 is: 0.8974362249951968\n",
      "r2 score cooresponding to random state 86 is: 0.895100540580081\n",
      "r2 score cooresponding to random state 87 is: 0.8593817605988417\n",
      "r2 score cooresponding to random state 88 is: 0.8509807438704029\n",
      "r2 score cooresponding to random state 89 is: 0.9057334526095527\n",
      "r2 score cooresponding to random state 90 is: 0.8325128103904945\n",
      "r2 score cooresponding to random state 91 is: 0.8798751278928127\n",
      "r2 score cooresponding to random state 92 is: 0.871331129103939\n",
      "r2 score cooresponding to random state 93 is: 0.8783215428334508\n",
      "r2 score cooresponding to random state 94 is: 0.8244955155080087\n",
      "r2 score cooresponding to random state 95 is: 0.8914982953175788\n",
      "r2 score cooresponding to random state 96 is: 0.9177593654156901\n",
      "r2 score cooresponding to random state 97 is: 0.8680978088328227\n",
      "r2 score cooresponding to random state 98 is: 0.8446984500665725\n",
      "r2 score cooresponding to random state 99 is: 0.8998027484533502\n",
      "\n",
      "\n",
      "Max r2 is cooresponding to  96 is: 0.9177593654156901\n"
     ]
    }
   ],
   "source": [
    "# to find best fit random state \n",
    "from sklearn import linear_model\n",
    "max_r_score=0\n",
    "for r_state in range (42,100):\n",
    "    x_train,x_test,y_train,y_test=train_test_split(x,y,test_size=.20,random_state=r_state)\n",
    "    lrg=linear_model.LinearRegression()\n",
    "    lrg.fit(x_train,y_train)\n",
    "    y_pred=lrg.predict(x_test)\n",
    "    r2_scr=r2_score(y_test,y_pred)\n",
    "    print('r2 score cooresponding to random state',r_state,'is:',r2_scr)\n",
    "    if r2_scr>max_r_score:\n",
    "        max_r_score=r2_scr\n",
    "        final_r_state=r_state\n",
    "\n",
    "print()\n",
    "print()\n",
    "print('Max r2 is cooresponding to ',final_r_state,'is:',max_r_score)"
   ]
  },
  {
   "cell_type": "code",
   "execution_count": 88,
   "metadata": {},
   "outputs": [
    {
     "name": "stdout",
     "output_type": "stream",
     "text": [
      "Predicted result [ 269.37923877  -29.54379188 1919.22783418 ...  -29.54379188  -29.54379188\n",
      "    3.10242345]\n",
      "Actual result 19810     798\n",
      "7507        0\n",
      "17226    3446\n",
      "9627        0\n",
      "16278     422\n",
      "         ... \n",
      "1170        0\n",
      "9914      337\n",
      "6902        0\n",
      "7142        0\n",
      "16167      23\n",
      "Name: Confirmed, Length: 4738, dtype: int64\n"
     ]
    }
   ],
   "source": [
    "pred=lrg.predict(x_test)\n",
    "print('Predicted result',pred)\n",
    "print('Actual result',y_test)"
   ]
  },
  {
   "cell_type": "code",
   "execution_count": 89,
   "metadata": {},
   "outputs": [
    {
     "name": "stdout",
     "output_type": "stream",
     "text": [
      "r2_score is  0.9177593654156901\n",
      "RMSE is  21792.4467170588\n"
     ]
    }
   ],
   "source": [
    "x_train,x_test,y_train,y_test=train_test_split(x,y,test_size=.20,random_state=96)\n",
    "lrg=linear_model.LinearRegression()\n",
    "lrg.fit(x_train,y_train)\n",
    "y_pred=lrg.predict(x_test)\n",
    "print('r2_score is ',r2_score(y_test,y_pred))\n",
    "print('RMSE is ',np.sqrt(mean_squared_error(y_test,y_pred)))"
   ]
  },
  {
   "cell_type": "code",
   "execution_count": 90,
   "metadata": {},
   "outputs": [
    {
     "data": {
      "text/plain": [
       "array([0.57076446, 0.91639081, 0.73952717, 0.8388428 , 0.89233265])"
      ]
     },
     "execution_count": 90,
     "metadata": {},
     "output_type": "execute_result"
    }
   ],
   "source": [
    "cross_val_score(linear_model.LinearRegression(),x,y,cv=5,scoring='r2')"
   ]
  },
  {
   "cell_type": "code",
   "execution_count": 91,
   "metadata": {},
   "outputs": [
    {
     "data": {
      "text/plain": [
       "['Covid_dataset.pkl']"
      ]
     },
     "execution_count": 91,
     "metadata": {},
     "output_type": "execute_result"
    }
   ],
   "source": [
    "from sklearn.externals import joblib\n",
    "joblib.dump(lrg,'Covid_dataset.pkl')"
   ]
  },
  {
   "cell_type": "code",
   "execution_count": null,
   "metadata": {},
   "outputs": [],
   "source": []
  }
 ],
 "metadata": {
  "kernelspec": {
   "display_name": "Python 3",
   "language": "python",
   "name": "python3"
  },
  "language_info": {
   "codemirror_mode": {
    "name": "ipython",
    "version": 3
   },
   "file_extension": ".py",
   "mimetype": "text/x-python",
   "name": "python",
   "nbconvert_exporter": "python",
   "pygments_lexer": "ipython3",
   "version": "3.7.6"
  }
 },
 "nbformat": 4,
 "nbformat_minor": 4
}
